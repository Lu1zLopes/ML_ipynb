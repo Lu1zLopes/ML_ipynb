{
 "cells": [
  {
   "cell_type": "code",
   "execution_count": 2,
   "metadata": {},
   "outputs": [],
   "source": [
    "import pandas as pd\n",
    "\n",
    "#criando dicionario\n",
    "\n",
    "alunosDIC = {\"nome\":[\"VISIONALDENSON\",\"WANDOSVALDO\",\"ADIABELSIO\",\"UBERANTONIO\"],\n",
    "         \"nota\":[7,5.5,8,6.5],\n",
    "         \"Aprovado\":[\"sim\",\"não\",\"sim\",\"sim\"]}\n"
   ]
  },
  {
   "cell_type": "code",
   "execution_count": 3,
   "metadata": {},
   "outputs": [],
   "source": [
    "#criando dataframe a partir do dicionario\n",
    "alunosDF = pd.DataFrame(alunosDIC)"
   ]
  },
  {
   "cell_type": "code",
   "execution_count": 9,
   "metadata": {
    "scrolled": true
   },
   "outputs": [
    {
     "name": "stdout",
     "output_type": "stream",
     "text": [
      "             nome  nota Aprovado\n",
      "0  VISIONALDENSON   7.0      sim\n",
      "1     WANDOSVALDO   5.5      não\n",
      "2      ADIABELSIO   8.0      sim\n",
      "3     UBERANTONIO   6.5      sim\n"
     ]
    }
   ],
   "source": [
    "print(alunosDF)"
   ]
  },
  {
   "cell_type": "code",
   "execution_count": 12,
   "metadata": {
    "scrolled": true
   },
   "outputs": [],
   "source": [
    "headlines = alunosDF.loc[0:1]"
   ]
  },
  {
   "cell_type": "code",
   "execution_count": 13,
   "metadata": {},
   "outputs": [
    {
     "name": "stdout",
     "output_type": "stream",
     "text": [
      "             nome  nota Aprovado\n",
      "0  VISIONALDENSON   7.0      sim\n",
      "1     WANDOSVALDO   5.5      não\n"
     ]
    }
   ],
   "source": [
    "print(headlines)"
   ]
  },
  {
   "cell_type": "code",
   "execution_count": 26,
   "metadata": {},
   "outputs": [
    {
     "name": "stdout",
     "output_type": "stream",
     "text": [
      "         nome  nota Aprovado\n",
      "2  ADIABELSIO   8.0      sim\n"
     ]
    }
   ],
   "source": [
    "escolhido = alunosDF.loc[alunosDF[\"nota\"]==8.0]\n",
    "print(escolhido)"
   ]
  },
  {
   "cell_type": "code",
   "execution_count": 33,
   "metadata": {},
   "outputs": [
    {
     "name": "stdout",
     "output_type": "stream",
     "text": [
      "          nome  nota Aprovado\n",
      "1  WANDOSVALDO   5.5      não\n"
     ]
    }
   ],
   "source": [
    "#pode-se usar o diferente para se conseguir determinados valores\n",
    "novoDF = alunosDF.loc[alunosDF[\"Aprovado\"]!=\"sim\"]\n",
    "print(novoDF)"
   ]
  },
  {
   "cell_type": "code",
   "execution_count": 38,
   "metadata": {},
   "outputs": [
    {
     "name": "stdout",
     "output_type": "stream",
     "text": [
      "             nome  nota Aprovado\n",
      "0  VISIONALDENSON   7.0      sim\n",
      "2      ADIABELSIO   8.0      sim\n",
      "3     UBERANTONIO   6.5      sim\n"
     ]
    }
   ],
   "source": [
    "alunosREP = alunosDF.loc[alunosDF[\"nota\"]!=5.5]\n",
    "print(alunosREP)"
   ]
  },
  {
   "cell_type": "code",
   "execution_count": null,
   "metadata": {},
   "outputs": [],
   "source": []
  }
 ],
 "metadata": {
  "kernelspec": {
   "display_name": "Python 3",
   "language": "python",
   "name": "python3"
  },
  "language_info": {
   "codemirror_mode": {
    "name": "ipython",
    "version": 3
   },
   "file_extension": ".py",
   "mimetype": "text/x-python",
   "name": "python",
   "nbconvert_exporter": "python",
   "pygments_lexer": "ipython3",
   "version": "3.8.5"
  }
 },
 "nbformat": 4,
 "nbformat_minor": 4
}
